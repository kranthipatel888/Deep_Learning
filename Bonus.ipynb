{
 "cells": [
  {
   "cell_type": "code",
   "execution_count": 62,
   "id": "3b4518bc-c32a-4b3c-b38c-31fc7fd9ca93",
   "metadata": {},
   "outputs": [],
   "source": [
    "import pandas as pd\n",
    "import torch\n",
    "import torch.nn as nn\n",
    "import torch.optim as optim\n",
    "from sklearn.model_selection import train_test_split"
   ]
  },
  {
   "cell_type": "code",
   "execution_count": 63,
   "id": "331fb1f7-4f54-46d4-b612-26795d64edd8",
   "metadata": {},
   "outputs": [],
   "source": [
    "df=pd.read_csv(\"bonus.csv\")\n",
    "df.head()\n",
    "x=df.drop(['bonus','employee_id'],axis=1).values\n",
    "y=df[['bonus']].values\n",
    "x_train,x_test,y_train,y_test=train_test_split(x,y,test_size=.2,random_state=42)"
   ]
  },
  {
   "cell_type": "code",
   "execution_count": 64,
   "id": "9c334b55-0ed1-4e5b-b04d-0bf94ebc1615",
   "metadata": {},
   "outputs": [
    {
     "data": {
      "text/plain": [
       "(800, 3)"
      ]
     },
     "execution_count": 64,
     "metadata": {},
     "output_type": "execute_result"
    }
   ],
   "source": [
    "x_train.shape"
   ]
  },
  {
   "cell_type": "code",
   "execution_count": 65,
   "id": "a3773a01-fcc6-4e0e-976d-bf1a30a44949",
   "metadata": {},
   "outputs": [],
   "source": [
    "x_train_tensor=torch.tensor(x_train,dtype=torch.float32)\n",
    "x_test_tensor=torch.tensor(x_test,dtype=torch.float32)\n",
    "y_train_tensor=torch.tensor(y_train,dtype=torch.float32)\n",
    "y_test_tensor=torch.tensor(y_test,dtype=torch.float32)"
   ]
  },
  {
   "cell_type": "code",
   "execution_count": 66,
   "id": "db5a35ed-e465-497f-bd75-5fac1c963320",
   "metadata": {},
   "outputs": [],
   "source": [
    "class BonusPredictor(nn.Module):\n",
    "    def __init__(self):\n",
    "        super().__init__()\n",
    "        self.network=nn.Sequential(\n",
    "            nn.Linear(3,1)\n",
    "        )\n",
    "    def forward(self,x):\n",
    "            return self.network(x)\n",
    "        "
   ]
  },
  {
   "cell_type": "code",
   "execution_count": 69,
   "id": "cbb92ee7-fd57-42a6-9d01-ba4483479dd9",
   "metadata": {},
   "outputs": [],
   "source": [
    "model=BonusPredictor()\n",
    "criterion=nn.MSELoss()\n",
    "optimizer=optim.SGD(model.parameters(),lr=0.005)"
   ]
  },
  {
   "cell_type": "code",
   "execution_count": 70,
   "id": "c16e4e0f-db2e-4082-a796-f8841787ba00",
   "metadata": {},
   "outputs": [
    {
     "name": "stdout",
     "output_type": "stream",
     "text": [
      "Epoch:100,\tLoss:20.87\n",
      "Epoch:200,\tLoss:18.17\n",
      "Epoch:300,\tLoss:15.92\n",
      "Epoch:400,\tLoss:13.98\n",
      "Epoch:500,\tLoss:12.29\n",
      "Epoch:600,\tLoss:10.81\n",
      "Epoch:700,\tLoss:9.50\n",
      "Epoch:800,\tLoss:8.36\n",
      "Epoch:900,\tLoss:7.35\n",
      "Epoch:1000,\tLoss:6.47\n",
      "Epoch:1100,\tLoss:5.69\n",
      "Epoch:1200,\tLoss:5.01\n",
      "Epoch:1300,\tLoss:4.40\n",
      "Epoch:1400,\tLoss:3.87\n",
      "Epoch:1500,\tLoss:3.41\n",
      "Epoch:1600,\tLoss:3.00\n",
      "Epoch:1700,\tLoss:2.64\n",
      "Epoch:1800,\tLoss:2.32\n",
      "Epoch:1900,\tLoss:2.04\n",
      "Epoch:2000,\tLoss:1.79\n",
      "Epoch:2100,\tLoss:1.58\n",
      "Epoch:2200,\tLoss:1.39\n",
      "Epoch:2300,\tLoss:1.22\n",
      "Epoch:2400,\tLoss:1.07\n",
      "Epoch:2500,\tLoss:0.95\n",
      "Epoch:2600,\tLoss:0.83\n",
      "Epoch:2700,\tLoss:0.73\n",
      "Epoch:2800,\tLoss:0.64\n",
      "Epoch:2900,\tLoss:0.57\n",
      "Epoch:3000,\tLoss:0.50\n",
      "Epoch:3100,\tLoss:0.44\n",
      "Epoch:3200,\tLoss:0.39\n",
      "Epoch:3300,\tLoss:0.34\n",
      "Epoch:3400,\tLoss:0.30\n",
      "Epoch:3500,\tLoss:0.26\n",
      "Epoch:3600,\tLoss:0.23\n",
      "Epoch:3700,\tLoss:0.20\n",
      "Epoch:3800,\tLoss:0.18\n",
      "Epoch:3900,\tLoss:0.16\n",
      "Epoch:4000,\tLoss:0.14\n",
      "Epoch:4100,\tLoss:0.12\n",
      "Epoch:4200,\tLoss:0.11\n",
      "Epoch:4300,\tLoss:0.09\n",
      "Epoch:4400,\tLoss:0.08\n",
      "Epoch:4500,\tLoss:0.07\n",
      "Epoch:4600,\tLoss:0.06\n",
      "Epoch:4700,\tLoss:0.06\n",
      "Epoch:4800,\tLoss:0.05\n",
      "Epoch:4900,\tLoss:0.04\n",
      "Epoch:5000,\tLoss:0.04\n"
     ]
    }
   ],
   "source": [
    "epochs=5000\n",
    "for epoch in range(epochs):\n",
    "    predictions=model(x_train_tensor)\n",
    "    loss=criterion(predictions,y_train_tensor)\n",
    "\n",
    "    optimizer.zero_grad()\n",
    "    loss.backward()\n",
    "    optimizer.step()\n",
    "\n",
    "    if (epoch+1)%100==0:\n",
    "        print(f\"Epoch:{epoch+1},\\tLoss:{loss.item():.2f}\")"
   ]
  },
  {
   "cell_type": "code",
   "execution_count": 60,
   "id": "f0ece2ea-3588-4c06-96e9-777f2bcdcba2",
   "metadata": {},
   "outputs": [
    {
     "name": "stdout",
     "output_type": "stream",
     "text": [
      "Test Losss:  0.04\n"
     ]
    }
   ],
   "source": [
    "model.eval()\n",
    "with torch.no_grad():\n",
    "    test_predictions=model(x_test_tensor)\n",
    "    test_loss=criterion(test_predictions,y_test_tensor)\n",
    "print(f\"Test Losss:  {test_loss.item():.2f}\")"
   ]
  },
  {
   "cell_type": "code",
   "execution_count": 61,
   "id": "2353b3c1-d06a-4b66-b401-3316d9e866a7",
   "metadata": {},
   "outputs": [
    {
     "name": "stdout",
     "output_type": "stream",
     "text": [
      "Name:network.0.weight,  Value: Parameter containing:\n",
      "tensor([[12.0333,  5.8477,  2.1816]], requires_grad=True)\n",
      "Name:network.0.bias,  Value: Parameter containing:\n",
      "tensor([19.2490], requires_grad=True)\n"
     ]
    }
   ],
   "source": [
    "for name, value in model.named_parameters():\n",
    "    print(f\"Name:{name},  Value: {value}\")"
   ]
  },
  {
   "cell_type": "code",
   "execution_count": null,
   "id": "0bdf8c36-0fae-45b5-aa37-42ce395af248",
   "metadata": {},
   "outputs": [],
   "source": []
  }
 ],
 "metadata": {
  "kernelspec": {
   "display_name": "Python 3 (ipykernel)",
   "language": "python",
   "name": "python3"
  },
  "language_info": {
   "codemirror_mode": {
    "name": "ipython",
    "version": 3
   },
   "file_extension": ".py",
   "mimetype": "text/x-python",
   "name": "python",
   "nbconvert_exporter": "python",
   "pygments_lexer": "ipython3",
   "version": "3.13.2"
  }
 },
 "nbformat": 4,
 "nbformat_minor": 5
}
