{
 "cells": [
  {
   "cell_type": "code",
   "execution_count": 60,
   "id": "0b30f6b8-d683-4cd5-b9f3-925c5947cdcb",
   "metadata": {},
   "outputs": [],
   "source": [
    "import torch\n",
    "import torch.nn as nn\n",
    "import pandas as pd \n",
    "import numpy as np\n",
    "from torch.utils.data import TensorDataset,DataLoader\n",
    "from torch import optim\n",
    "import matplotlib.pyplot as plt\n",
    "from sklearn.metrics import accuracy_score"
   ]
  },
  {
   "cell_type": "code",
   "execution_count": 61,
   "id": "b857079b-6c3d-47cf-ac1b-d3e90b7fae0c",
   "metadata": {},
   "outputs": [
    {
     "data": {
      "text/html": [
       "<div>\n",
       "<style scoped>\n",
       "    .dataframe tbody tr th:only-of-type {\n",
       "        vertical-align: middle;\n",
       "    }\n",
       "\n",
       "    .dataframe tbody tr th {\n",
       "        vertical-align: top;\n",
       "    }\n",
       "\n",
       "    .dataframe thead th {\n",
       "        text-align: right;\n",
       "    }\n",
       "</style>\n",
       "<table border=\"1\" class=\"dataframe\">\n",
       "  <thead>\n",
       "    <tr style=\"text-align: right;\">\n",
       "      <th></th>\n",
       "      <th>0</th>\n",
       "      <th>1</th>\n",
       "      <th>2</th>\n",
       "      <th>3</th>\n",
       "      <th>4</th>\n",
       "      <th>5</th>\n",
       "      <th>6</th>\n",
       "      <th>7</th>\n",
       "      <th>8</th>\n",
       "      <th>9</th>\n",
       "      <th>...</th>\n",
       "      <th>51</th>\n",
       "      <th>52</th>\n",
       "      <th>53</th>\n",
       "      <th>54</th>\n",
       "      <th>55</th>\n",
       "      <th>56</th>\n",
       "      <th>57</th>\n",
       "      <th>58</th>\n",
       "      <th>59</th>\n",
       "      <th>60</th>\n",
       "    </tr>\n",
       "  </thead>\n",
       "  <tbody>\n",
       "    <tr>\n",
       "      <th>108</th>\n",
       "      <td>0.0599</td>\n",
       "      <td>0.0474</td>\n",
       "      <td>0.0498</td>\n",
       "      <td>0.0387</td>\n",
       "      <td>0.1026</td>\n",
       "      <td>0.0773</td>\n",
       "      <td>0.0853</td>\n",
       "      <td>0.0447</td>\n",
       "      <td>0.1094</td>\n",
       "      <td>0.0351</td>\n",
       "      <td>...</td>\n",
       "      <td>0.0013</td>\n",
       "      <td>0.0005</td>\n",
       "      <td>0.0227</td>\n",
       "      <td>0.0209</td>\n",
       "      <td>0.0081</td>\n",
       "      <td>0.0117</td>\n",
       "      <td>0.0114</td>\n",
       "      <td>0.0112</td>\n",
       "      <td>0.0100</td>\n",
       "      <td>M</td>\n",
       "    </tr>\n",
       "    <tr>\n",
       "      <th>44</th>\n",
       "      <td>0.0257</td>\n",
       "      <td>0.0447</td>\n",
       "      <td>0.0388</td>\n",
       "      <td>0.0239</td>\n",
       "      <td>0.1315</td>\n",
       "      <td>0.1323</td>\n",
       "      <td>0.1608</td>\n",
       "      <td>0.2145</td>\n",
       "      <td>0.0847</td>\n",
       "      <td>0.0561</td>\n",
       "      <td>...</td>\n",
       "      <td>0.0096</td>\n",
       "      <td>0.0153</td>\n",
       "      <td>0.0096</td>\n",
       "      <td>0.0131</td>\n",
       "      <td>0.0198</td>\n",
       "      <td>0.0025</td>\n",
       "      <td>0.0199</td>\n",
       "      <td>0.0255</td>\n",
       "      <td>0.0180</td>\n",
       "      <td>R</td>\n",
       "    </tr>\n",
       "    <tr>\n",
       "      <th>84</th>\n",
       "      <td>0.0378</td>\n",
       "      <td>0.0318</td>\n",
       "      <td>0.0423</td>\n",
       "      <td>0.0350</td>\n",
       "      <td>0.1787</td>\n",
       "      <td>0.1635</td>\n",
       "      <td>0.0887</td>\n",
       "      <td>0.0817</td>\n",
       "      <td>0.1779</td>\n",
       "      <td>0.2053</td>\n",
       "      <td>...</td>\n",
       "      <td>0.0046</td>\n",
       "      <td>0.0044</td>\n",
       "      <td>0.0078</td>\n",
       "      <td>0.0102</td>\n",
       "      <td>0.0065</td>\n",
       "      <td>0.0061</td>\n",
       "      <td>0.0062</td>\n",
       "      <td>0.0043</td>\n",
       "      <td>0.0053</td>\n",
       "      <td>R</td>\n",
       "    </tr>\n",
       "    <tr>\n",
       "      <th>62</th>\n",
       "      <td>0.0086</td>\n",
       "      <td>0.0215</td>\n",
       "      <td>0.0242</td>\n",
       "      <td>0.0445</td>\n",
       "      <td>0.0667</td>\n",
       "      <td>0.0771</td>\n",
       "      <td>0.0499</td>\n",
       "      <td>0.0906</td>\n",
       "      <td>0.1229</td>\n",
       "      <td>0.1185</td>\n",
       "      <td>...</td>\n",
       "      <td>0.0072</td>\n",
       "      <td>0.0054</td>\n",
       "      <td>0.0022</td>\n",
       "      <td>0.0016</td>\n",
       "      <td>0.0029</td>\n",
       "      <td>0.0058</td>\n",
       "      <td>0.0050</td>\n",
       "      <td>0.0024</td>\n",
       "      <td>0.0030</td>\n",
       "      <td>R</td>\n",
       "    </tr>\n",
       "    <tr>\n",
       "      <th>0</th>\n",
       "      <td>0.0200</td>\n",
       "      <td>0.0371</td>\n",
       "      <td>0.0428</td>\n",
       "      <td>0.0207</td>\n",
       "      <td>0.0954</td>\n",
       "      <td>0.0986</td>\n",
       "      <td>0.1539</td>\n",
       "      <td>0.1601</td>\n",
       "      <td>0.3109</td>\n",
       "      <td>0.2111</td>\n",
       "      <td>...</td>\n",
       "      <td>0.0027</td>\n",
       "      <td>0.0065</td>\n",
       "      <td>0.0159</td>\n",
       "      <td>0.0072</td>\n",
       "      <td>0.0167</td>\n",
       "      <td>0.0180</td>\n",
       "      <td>0.0084</td>\n",
       "      <td>0.0090</td>\n",
       "      <td>0.0032</td>\n",
       "      <td>R</td>\n",
       "    </tr>\n",
       "  </tbody>\n",
       "</table>\n",
       "<p>5 rows × 61 columns</p>\n",
       "</div>"
      ],
      "text/plain": [
       "         0       1       2       3       4       5       6       7       8   \\\n",
       "108  0.0599  0.0474  0.0498  0.0387  0.1026  0.0773  0.0853  0.0447  0.1094   \n",
       "44   0.0257  0.0447  0.0388  0.0239  0.1315  0.1323  0.1608  0.2145  0.0847   \n",
       "84   0.0378  0.0318  0.0423  0.0350  0.1787  0.1635  0.0887  0.0817  0.1779   \n",
       "62   0.0086  0.0215  0.0242  0.0445  0.0667  0.0771  0.0499  0.0906  0.1229   \n",
       "0    0.0200  0.0371  0.0428  0.0207  0.0954  0.0986  0.1539  0.1601  0.3109   \n",
       "\n",
       "         9   ...      51      52      53      54      55      56      57  \\\n",
       "108  0.0351  ...  0.0013  0.0005  0.0227  0.0209  0.0081  0.0117  0.0114   \n",
       "44   0.0561  ...  0.0096  0.0153  0.0096  0.0131  0.0198  0.0025  0.0199   \n",
       "84   0.2053  ...  0.0046  0.0044  0.0078  0.0102  0.0065  0.0061  0.0062   \n",
       "62   0.1185  ...  0.0072  0.0054  0.0022  0.0016  0.0029  0.0058  0.0050   \n",
       "0    0.2111  ...  0.0027  0.0065  0.0159  0.0072  0.0167  0.0180  0.0084   \n",
       "\n",
       "         58      59  60  \n",
       "108  0.0112  0.0100   M  \n",
       "44   0.0255  0.0180   R  \n",
       "84   0.0043  0.0053   R  \n",
       "62   0.0024  0.0030   R  \n",
       "0    0.0090  0.0032   R  \n",
       "\n",
       "[5 rows x 61 columns]"
      ]
     },
     "execution_count": 61,
     "metadata": {},
     "output_type": "execute_result"
    }
   ],
   "source": [
    "df =pd.read_csv(\"sonar.all-data\",header=None)\n",
    "df.sample(5)"
   ]
  },
  {
   "cell_type": "code",
   "execution_count": 62,
   "id": "d116890c-01cc-4c88-b1ce-f12ad42a04a8",
   "metadata": {},
   "outputs": [
    {
     "data": {
      "text/plain": [
       "(208, 61)"
      ]
     },
     "execution_count": 62,
     "metadata": {},
     "output_type": "execute_result"
    }
   ],
   "source": [
    "df.shape"
   ]
  },
  {
   "cell_type": "code",
   "execution_count": 63,
   "id": "e6b84bb1-e3b2-4d0b-8522-fd996ba5cae7",
   "metadata": {},
   "outputs": [
    {
     "data": {
      "text/html": [
       "<div>\n",
       "<style scoped>\n",
       "    .dataframe tbody tr th:only-of-type {\n",
       "        vertical-align: middle;\n",
       "    }\n",
       "\n",
       "    .dataframe tbody tr th {\n",
       "        vertical-align: top;\n",
       "    }\n",
       "\n",
       "    .dataframe thead th {\n",
       "        text-align: right;\n",
       "    }\n",
       "</style>\n",
       "<table border=\"1\" class=\"dataframe\">\n",
       "  <thead>\n",
       "    <tr style=\"text-align: right;\">\n",
       "      <th></th>\n",
       "      <th>0</th>\n",
       "      <th>1</th>\n",
       "      <th>2</th>\n",
       "      <th>3</th>\n",
       "      <th>4</th>\n",
       "      <th>5</th>\n",
       "      <th>6</th>\n",
       "      <th>7</th>\n",
       "      <th>8</th>\n",
       "      <th>9</th>\n",
       "      <th>...</th>\n",
       "      <th>51</th>\n",
       "      <th>52</th>\n",
       "      <th>53</th>\n",
       "      <th>54</th>\n",
       "      <th>55</th>\n",
       "      <th>56</th>\n",
       "      <th>57</th>\n",
       "      <th>58</th>\n",
       "      <th>59</th>\n",
       "      <th>60</th>\n",
       "    </tr>\n",
       "  </thead>\n",
       "  <tbody>\n",
       "    <tr>\n",
       "      <th>0</th>\n",
       "      <td>0.0200</td>\n",
       "      <td>0.0371</td>\n",
       "      <td>0.0428</td>\n",
       "      <td>0.0207</td>\n",
       "      <td>0.0954</td>\n",
       "      <td>0.0986</td>\n",
       "      <td>0.1539</td>\n",
       "      <td>0.1601</td>\n",
       "      <td>0.3109</td>\n",
       "      <td>0.2111</td>\n",
       "      <td>...</td>\n",
       "      <td>0.0027</td>\n",
       "      <td>0.0065</td>\n",
       "      <td>0.0159</td>\n",
       "      <td>0.0072</td>\n",
       "      <td>0.0167</td>\n",
       "      <td>0.0180</td>\n",
       "      <td>0.0084</td>\n",
       "      <td>0.0090</td>\n",
       "      <td>0.0032</td>\n",
       "      <td>0</td>\n",
       "    </tr>\n",
       "    <tr>\n",
       "      <th>1</th>\n",
       "      <td>0.0453</td>\n",
       "      <td>0.0523</td>\n",
       "      <td>0.0843</td>\n",
       "      <td>0.0689</td>\n",
       "      <td>0.1183</td>\n",
       "      <td>0.2583</td>\n",
       "      <td>0.2156</td>\n",
       "      <td>0.3481</td>\n",
       "      <td>0.3337</td>\n",
       "      <td>0.2872</td>\n",
       "      <td>...</td>\n",
       "      <td>0.0084</td>\n",
       "      <td>0.0089</td>\n",
       "      <td>0.0048</td>\n",
       "      <td>0.0094</td>\n",
       "      <td>0.0191</td>\n",
       "      <td>0.0140</td>\n",
       "      <td>0.0049</td>\n",
       "      <td>0.0052</td>\n",
       "      <td>0.0044</td>\n",
       "      <td>0</td>\n",
       "    </tr>\n",
       "    <tr>\n",
       "      <th>2</th>\n",
       "      <td>0.0262</td>\n",
       "      <td>0.0582</td>\n",
       "      <td>0.1099</td>\n",
       "      <td>0.1083</td>\n",
       "      <td>0.0974</td>\n",
       "      <td>0.2280</td>\n",
       "      <td>0.2431</td>\n",
       "      <td>0.3771</td>\n",
       "      <td>0.5598</td>\n",
       "      <td>0.6194</td>\n",
       "      <td>...</td>\n",
       "      <td>0.0232</td>\n",
       "      <td>0.0166</td>\n",
       "      <td>0.0095</td>\n",
       "      <td>0.0180</td>\n",
       "      <td>0.0244</td>\n",
       "      <td>0.0316</td>\n",
       "      <td>0.0164</td>\n",
       "      <td>0.0095</td>\n",
       "      <td>0.0078</td>\n",
       "      <td>0</td>\n",
       "    </tr>\n",
       "    <tr>\n",
       "      <th>3</th>\n",
       "      <td>0.0100</td>\n",
       "      <td>0.0171</td>\n",
       "      <td>0.0623</td>\n",
       "      <td>0.0205</td>\n",
       "      <td>0.0205</td>\n",
       "      <td>0.0368</td>\n",
       "      <td>0.1098</td>\n",
       "      <td>0.1276</td>\n",
       "      <td>0.0598</td>\n",
       "      <td>0.1264</td>\n",
       "      <td>...</td>\n",
       "      <td>0.0121</td>\n",
       "      <td>0.0036</td>\n",
       "      <td>0.0150</td>\n",
       "      <td>0.0085</td>\n",
       "      <td>0.0073</td>\n",
       "      <td>0.0050</td>\n",
       "      <td>0.0044</td>\n",
       "      <td>0.0040</td>\n",
       "      <td>0.0117</td>\n",
       "      <td>0</td>\n",
       "    </tr>\n",
       "    <tr>\n",
       "      <th>4</th>\n",
       "      <td>0.0762</td>\n",
       "      <td>0.0666</td>\n",
       "      <td>0.0481</td>\n",
       "      <td>0.0394</td>\n",
       "      <td>0.0590</td>\n",
       "      <td>0.0649</td>\n",
       "      <td>0.1209</td>\n",
       "      <td>0.2467</td>\n",
       "      <td>0.3564</td>\n",
       "      <td>0.4459</td>\n",
       "      <td>...</td>\n",
       "      <td>0.0031</td>\n",
       "      <td>0.0054</td>\n",
       "      <td>0.0105</td>\n",
       "      <td>0.0110</td>\n",
       "      <td>0.0015</td>\n",
       "      <td>0.0072</td>\n",
       "      <td>0.0048</td>\n",
       "      <td>0.0107</td>\n",
       "      <td>0.0094</td>\n",
       "      <td>0</td>\n",
       "    </tr>\n",
       "  </tbody>\n",
       "</table>\n",
       "<p>5 rows × 61 columns</p>\n",
       "</div>"
      ],
      "text/plain": [
       "       0       1       2       3       4       5       6       7       8   \\\n",
       "0  0.0200  0.0371  0.0428  0.0207  0.0954  0.0986  0.1539  0.1601  0.3109   \n",
       "1  0.0453  0.0523  0.0843  0.0689  0.1183  0.2583  0.2156  0.3481  0.3337   \n",
       "2  0.0262  0.0582  0.1099  0.1083  0.0974  0.2280  0.2431  0.3771  0.5598   \n",
       "3  0.0100  0.0171  0.0623  0.0205  0.0205  0.0368  0.1098  0.1276  0.0598   \n",
       "4  0.0762  0.0666  0.0481  0.0394  0.0590  0.0649  0.1209  0.2467  0.3564   \n",
       "\n",
       "       9   ...      51      52      53      54      55      56      57  \\\n",
       "0  0.2111  ...  0.0027  0.0065  0.0159  0.0072  0.0167  0.0180  0.0084   \n",
       "1  0.2872  ...  0.0084  0.0089  0.0048  0.0094  0.0191  0.0140  0.0049   \n",
       "2  0.6194  ...  0.0232  0.0166  0.0095  0.0180  0.0244  0.0316  0.0164   \n",
       "3  0.1264  ...  0.0121  0.0036  0.0150  0.0085  0.0073  0.0050  0.0044   \n",
       "4  0.4459  ...  0.0031  0.0054  0.0105  0.0110  0.0015  0.0072  0.0048   \n",
       "\n",
       "       58      59  60  \n",
       "0  0.0090  0.0032   0  \n",
       "1  0.0052  0.0044   0  \n",
       "2  0.0095  0.0078   0  \n",
       "3  0.0040  0.0117   0  \n",
       "4  0.0107  0.0094   0  \n",
       "\n",
       "[5 rows x 61 columns]"
      ]
     },
     "execution_count": 63,
     "metadata": {},
     "output_type": "execute_result"
    }
   ],
   "source": [
    "df[60]=df[60].map({'R':0,'M':1})\n",
    "df.head()"
   ]
  },
  {
   "cell_type": "code",
   "execution_count": 64,
   "id": "afbe0509-ad3d-4812-b1f1-27c18e17294e",
   "metadata": {},
   "outputs": [],
   "source": [
    "x=df.drop(60,axis=1)\n",
    "y=df[60]"
   ]
  },
  {
   "cell_type": "code",
   "execution_count": 65,
   "id": "659295ea-3529-4c87-b72c-b5e64c42bdd3",
   "metadata": {},
   "outputs": [],
   "source": [
    "from sklearn.model_selection import train_test_split\n",
    "x_train,x_test,y_train,y_test=train_test_split(x,y,test_size=.2,random_state=42)"
   ]
  },
  {
   "cell_type": "code",
   "execution_count": 66,
   "id": "616057ff-ca42-47dd-b7b9-861cc677b585",
   "metadata": {},
   "outputs": [],
   "source": [
    "x_train_tensor = torch.tensor(x_train.values, dtype=torch.float32)\n",
    "y_train_tensor = torch.tensor(y_train.values, dtype=torch.long)\n",
    "x_test_tensor = torch.tensor(x_test.values, dtype=torch.float32)\n",
    "y_test_tensor = torch.tensor(y_test.values, dtype=torch.long)"
   ]
  },
  {
   "cell_type": "code",
   "execution_count": 67,
   "id": "3021b78c-aa55-4579-8930-672ecf17b4fc",
   "metadata": {},
   "outputs": [],
   "source": [
    "train_dataset=TensorDataset(x_train_tensor,y_train_tensor)\n",
    "teat_dataset=TensorDataset(x_test_tensor,y_test_tensor)"
   ]
  },
  {
   "cell_type": "code",
   "execution_count": 68,
   "id": "0f63b113-50a1-4f92-b172-93f03342aba3",
   "metadata": {},
   "outputs": [],
   "source": [
    "train_dataloader=DataLoader(train_dataset,shuffle=True,batch_size=16)\n",
    "test_dataloader=DataLoader(teat_dataset,shuffle=True,batch_size=16)"
   ]
  },
  {
   "cell_type": "code",
   "execution_count": 69,
   "id": "8b72e56f-4a28-426d-9276-4587aa1b1d3d",
   "metadata": {},
   "outputs": [],
   "source": [
    "class Smiplenn(nn.Module):\n",
    "    def __init__(self):\n",
    "        super().__init__()\n",
    "        self.network=nn.Sequential(\n",
    "            nn.Linear(60,128),\n",
    "            nn.ReLU(),\n",
    "            nn.Linear(128,64),\n",
    "            nn.ReLU(),\n",
    "            nn.Linear(64,2)\n",
    "            \n",
    "        )\n",
    "    def forward(self,x):\n",
    "        return self.network(x)"
   ]
  },
  {
   "cell_type": "code",
   "execution_count": 70,
   "id": "542ea7a4-8e82-49ed-b301-050f7ab48505",
   "metadata": {},
   "outputs": [],
   "source": [
    "def train_model(model,train_loader,optimizer,test_loader, criterion,epochs=20):\n",
    "    train_losses,val_losses,val_accuracies=[],[],[]\n",
    "    for epoch in range(epochs):\n",
    "        model.train()\n",
    "        running_loss=0.0\n",
    "        for data , labels in train_loader:\n",
    "            optimizer.zero_grad()\n",
    "            pred=model(data)\n",
    "            loss=criterion(pred,labels)\n",
    "            loss.backward()\n",
    "            optimizer.step()\n",
    "            running_loss+=loss.item()\n",
    "        train_losses.append(running_loss/len(train_loader))\n",
    "\n",
    "        model.eval()\n",
    "        val_loss=0.0\n",
    "        y_pred,y_true=[],[]\n",
    "        with torch.no_grad():\n",
    "            for data,labels in test_loader:\n",
    "                pred=model(data)\n",
    "                loss=criterion(pred,labels)\n",
    "                val_loss+=loss.item()\n",
    "                _,predicted=torch.max(pred,axis=1)\n",
    "                y_true.extend(labels.numpy())\n",
    "                y_pred.extend(predicted.numpy())\n",
    "        val_losses.append(val_loss/len(test_loader))\n",
    "        val_accuracy=accuracy_score(y_true,y_pred)\n",
    "        val_accuracies.append(val_accuracy)\n",
    "        \n",
    "        print(f\"Epoch: {epoch+1}/{epochs},Train Loss:{train_losses[-1]:.4f},val_losses:{val_losses[-1]:.4f},val_accuracies:{val_accuracies[-1]:.4f}\")\n",
    "        \n",
    "    return train_losses,val_losses,val_accuracies"
   ]
  },
  {
   "cell_type": "code",
   "execution_count": 71,
   "id": "0dd63aae-faea-46cc-ab17-38020582b43b",
   "metadata": {},
   "outputs": [
    {
     "name": "stdout",
     "output_type": "stream",
     "text": [
      "Epoch: 1/30,Train Loss:0.6917,val_losses:0.6784,val_accuracies:0.6190\n",
      "Epoch: 2/30,Train Loss:0.6873,val_losses:0.6709,val_accuracies:0.6190\n",
      "Epoch: 3/30,Train Loss:0.6855,val_losses:0.6676,val_accuracies:0.6190\n",
      "Epoch: 4/30,Train Loss:0.6850,val_losses:0.6744,val_accuracies:0.6190\n",
      "Epoch: 5/30,Train Loss:0.6842,val_losses:0.6697,val_accuracies:0.6190\n",
      "Epoch: 6/30,Train Loss:0.6848,val_losses:0.6711,val_accuracies:0.6190\n",
      "Epoch: 7/30,Train Loss:0.6824,val_losses:0.6668,val_accuracies:0.6667\n",
      "Epoch: 8/30,Train Loss:0.6803,val_losses:0.6650,val_accuracies:0.6667\n",
      "Epoch: 9/30,Train Loss:0.6798,val_losses:0.6664,val_accuracies:0.7143\n",
      "Epoch: 10/30,Train Loss:0.6792,val_losses:0.6617,val_accuracies:0.7381\n",
      "Epoch: 11/30,Train Loss:0.6772,val_losses:0.6659,val_accuracies:0.8095\n",
      "Epoch: 12/30,Train Loss:0.6759,val_losses:0.6540,val_accuracies:0.7381\n",
      "Epoch: 13/30,Train Loss:0.6725,val_losses:0.6613,val_accuracies:0.8333\n",
      "Epoch: 14/30,Train Loss:0.6694,val_losses:0.6439,val_accuracies:0.7381\n",
      "Epoch: 15/30,Train Loss:0.6641,val_losses:0.6486,val_accuracies:0.8333\n",
      "Epoch: 16/30,Train Loss:0.6577,val_losses:0.6353,val_accuracies:0.8095\n",
      "Epoch: 17/30,Train Loss:0.6499,val_losses:0.6252,val_accuracies:0.8571\n",
      "Epoch: 18/30,Train Loss:0.6451,val_losses:0.6086,val_accuracies:0.8333\n",
      "Epoch: 19/30,Train Loss:0.6339,val_losses:0.5899,val_accuracies:0.8571\n",
      "Epoch: 20/30,Train Loss:0.6322,val_losses:0.5874,val_accuracies:0.8571\n",
      "Epoch: 21/30,Train Loss:0.6070,val_losses:0.5659,val_accuracies:0.8810\n",
      "Epoch: 22/30,Train Loss:0.6019,val_losses:0.5457,val_accuracies:0.8810\n",
      "Epoch: 23/30,Train Loss:0.5744,val_losses:0.5395,val_accuracies:0.8095\n",
      "Epoch: 24/30,Train Loss:0.5602,val_losses:0.4912,val_accuracies:0.8571\n",
      "Epoch: 25/30,Train Loss:0.5621,val_losses:0.4899,val_accuracies:0.8571\n",
      "Epoch: 26/30,Train Loss:0.5491,val_losses:0.4521,val_accuracies:0.8333\n",
      "Epoch: 27/30,Train Loss:0.5546,val_losses:0.5020,val_accuracies:0.7619\n",
      "Epoch: 28/30,Train Loss:0.5659,val_losses:0.4652,val_accuracies:0.9048\n",
      "Epoch: 29/30,Train Loss:0.5333,val_losses:0.4753,val_accuracies:0.8810\n",
      "Epoch: 30/30,Train Loss:0.5236,val_losses:0.4439,val_accuracies:0.8571\n"
     ]
    }
   ],
   "source": [
    "model=Smiplenn()\n",
    "optimizer=optim.Adam(model.parameters(),lr=0.001,weight_decay=0.04) #weight_decay ill define l2 regularization parameter \n",
    "criterion=nn.CrossEntropyLoss()\n",
    "train_losses,val_losses,val_accuracies=train_model(model,train_dataloader,optimizer,test_dataloader,criterion,epochs=30)"
   ]
  },
  {
   "cell_type": "code",
   "execution_count": 72,
   "id": "c9407f05-ab54-44f3-b2de-ecb729e73ce8",
   "metadata": {},
   "outputs": [
    {
     "data": {
      "image/png": "[encoded data removed]",
      "text/plain": [
       "<Figure size 640x480 with 1 Axes>"
      ]
     },
     "metadata": {},
     "output_type": "display_data"
    }
   ],
   "source": [
    "plt.plot(train_losses,label=\"train_losses without dropout\")\n",
    "plt.plot(val_losses,label=\"val_losses without dropout\")\n",
    "# plt.plot(val_accuracies,label=\"val_accuracies without dropout\")\n",
    "plt.legend()\n",
    "plt.show()"
   ]
  },
  {
   "cell_type": "code",
   "execution_count": 73,
   "id": "fc4bb7b4-41ba-4c66-8a8a-728f0b760d59",
   "metadata": {},
   "outputs": [],
   "source": [
    "class simplennwithdropout(nn.Module):\n",
    "    def __init__(self):\n",
    "        super().__init__()\n",
    "        self.network=nn.Sequential(\n",
    "            nn.Linear(60,128),\n",
    "            nn.ReLU(),\n",
    "            nn.Dropout(p=.5),\n",
    "            nn.Linear(128,64),\n",
    "            nn.ReLU(),\n",
    "            nn.Dropout(p=.5),\n",
    "            nn.Linear(64,2)\n",
    "        )\n",
    "    def forward(self,x):\n",
    "        return self.network(x)"
   ]
  },
  {
   "cell_type": "code",
   "execution_count": 86,
   "id": "be1b6145-7c7c-43fe-baed-e76062ba1980",
   "metadata": {},
   "outputs": [
    {
     "name": "stdout",
     "output_type": "stream",
     "text": [
      "Epoch: 1/30,Train Loss:0.6951,val_losses:0.6834,val_accuracies:0.8095\n",
      "Epoch: 2/30,Train Loss:0.6952,val_losses:0.6691,val_accuracies:0.6190\n",
      "Epoch: 3/30,Train Loss:0.6802,val_losses:0.6637,val_accuracies:0.7857\n",
      "Epoch: 4/30,Train Loss:0.6907,val_losses:0.6504,val_accuracies:0.6905\n",
      "Epoch: 5/30,Train Loss:0.6638,val_losses:0.6497,val_accuracies:0.8571\n",
      "Epoch: 6/30,Train Loss:0.6662,val_losses:0.6291,val_accuracies:0.8095\n",
      "Epoch: 7/30,Train Loss:0.6606,val_losses:0.6240,val_accuracies:0.8571\n",
      "Epoch: 8/30,Train Loss:0.6425,val_losses:0.5986,val_accuracies:0.8571\n",
      "stoppage\n",
      "Epoch: 9/30,Train Loss:0.6345,val_losses:0.5839,val_accuracies:0.8571\n"
     ]
    },
    {
     "data": {
      "image/png": "[encoded data removed]",
      "text/plain": [
       "<Figure size 640x480 with 1 Axes>"
      ]
     },
     "metadata": {},
     "output_type": "display_data"
    }
   ],
   "source": [
    "model=simplennwithdropout()\n",
    "optimizer=optim.Adam(model.parameters(),lr=0.001)\n",
    "criterion=nn.CrossEntropyLoss()\n",
    "train_losses,val_losses,val_accuracies=train_model(model,train_dataloader,optimizer,test_dataloader,criterion,epochs=30)\n",
    "plt.plot(train_losses,label=\"train_losses without dropout\")\n",
    "plt.plot(val_losses,label=\"val_losses without dropout\")\n",
    "plt.plot(val_accuracies,label=\"val_accuracies without dropout\")\n",
    "plt.legend()\n",
    "plt.show()"
   ]
  },
  {
   "cell_type": "markdown",
   "id": "697d8402-42a7-49af-9b5e-11546b485e53",
   "metadata": {},
   "source": [
    "## Early Stoppage"
   ]
  },
  {
   "cell_type": "code",
   "execution_count": 87,
   "id": "de73973a-ea63-42de-8409-00a650781d36",
   "metadata": {},
   "outputs": [],
   "source": [
    "def train_model(model,train_loader,optimizer,test_loader, criterion,epochs=20,thresh=3):\n",
    "    train_losses,val_losses,val_accuracies=[],[],[]\n",
    "    count=0\n",
    "    best_score=0\n",
    "    for epoch in range(epochs):\n",
    "        model.train()\n",
    "        running_loss=0.0\n",
    "        for data , labels in train_loader:\n",
    "            optimizer.zero_grad()\n",
    "            pred=model(data)\n",
    "            loss=criterion(pred,labels)\n",
    "            loss.backward()\n",
    "            optimizer.step()\n",
    "            running_loss+=loss.item()\n",
    "        train_losses.append(running_loss/len(train_loader))\n",
    "\n",
    "        model.eval()\n",
    "        val_loss=0.0\n",
    "        y_pred,y_true=[],[]\n",
    "        with torch.no_grad():\n",
    "            for data,labels in test_loader:\n",
    "                pred=model(data)\n",
    "                loss=criterion(pred,labels)\n",
    "                val_loss+=loss.item()\n",
    "                _,predicted=torch.max(pred,axis=1)\n",
    "                y_true.extend(labels.numpy())\n",
    "                y_pred.extend(predicted.numpy())\n",
    "        val_losses.append(val_loss/len(test_loader))\n",
    "        val_accuracy=accuracy_score(y_true,y_pred)\n",
    "        val_accuracies.append(val_accuracy)\n",
    "\n",
    "        if val_accuracy>best_score:\n",
    "            torch.save(model.state_dict(),'best_model.pt')\n",
    "            best_score=val_accuracy\n",
    "            count=0\n",
    "        else:\n",
    "            if count==thresh:\n",
    "                print(\"stoppage\")\n",
    "                print(f\"Epoch: {epoch+1}/{epochs},Train Loss:{train_losses[-1]:.4f},val_losses:{val_losses[-1]:.4f},val_accuracies:{val_accuracies[-1]:.4f}\")\n",
    "                return train_losses,val_losses,val_accuracies\n",
    "            count+=1\n",
    "        \n",
    "         \n",
    "        print(f\"Epoch: {epoch+1}/{epochs},Train Loss:{train_losses[-1]:.4f},val_losses:{val_losses[-1]:.4f},val_accuracies:{val_accuracies[-1]:.4f}\")\n",
    "        \n",
    "    return train_losses,val_losses,val_accuracies"
   ]
  },
  {
   "cell_type": "code",
   "execution_count": 88,
   "id": "2f2661c4-627a-4e70-9f6b-f5d9afaca20b",
   "metadata": {},
   "outputs": [
    {
     "name": "stdout",
     "output_type": "stream",
     "text": [
      "Epoch: 1/30,Train Loss:0.7004,val_losses:0.6822,val_accuracies:0.7143\n",
      "Epoch: 2/30,Train Loss:0.6918,val_losses:0.6805,val_accuracies:0.6667\n",
      "Epoch: 3/30,Train Loss:0.6844,val_losses:0.6768,val_accuracies:0.7857\n",
      "Epoch: 4/30,Train Loss:0.6835,val_losses:0.6663,val_accuracies:0.8571\n",
      "Epoch: 5/30,Train Loss:0.6845,val_losses:0.6644,val_accuracies:0.8095\n",
      "Epoch: 6/30,Train Loss:0.6643,val_losses:0.6476,val_accuracies:0.8333\n",
      "Epoch: 7/30,Train Loss:0.6613,val_losses:0.6167,val_accuracies:0.8571\n",
      "stoppage\n",
      "Epoch: 8/30,Train Loss:0.6590,val_losses:0.6048,val_accuracies:0.8571\n"
     ]
    }
   ],
   "source": [
    "model=simplennwithdropout()\n",
    "optimizer=optim.Adam(model.parameters(),lr=0.001)\n",
    "criterion=nn.CrossEntropyLoss()\n",
    "train_losses,val_losses,val_accuracies=train_model(model,train_dataloader,optimizer,test_dataloader,criterion,epochs=30)"
   ]
  },
  {
   "cell_type": "code",
   "execution_count": 89,
   "id": "ea51bf1b-4259-4b40-9e08-13984d119b19",
   "metadata": {},
   "outputs": [
    {
     "data": {
      "text/plain": [
       "<All keys matched successfully>"
      ]
     },
     "execution_count": 89,
     "metadata": {},
     "output_type": "execute_result"
    }
   ],
   "source": [
    "model.load_state_dict(torch.load(\"best_model.pt\"))"
   ]
  },
  {
   "cell_type": "code",
   "execution_count": 85,
   "id": "15bfaef6-a8c4-4960-aa8a-f215ae464607",
   "metadata": {},
   "outputs": [
    {
     "data": {
      "text/plain": [
       "0.8333333333333334"
      ]
     },
     "execution_count": 85,
     "metadata": {},
     "output_type": "execute_result"
    }
   ],
   "source": [
    "y_pred,y_true=[],[]\n",
    "with torch.no_grad():\n",
    "        for data,labels in test_dataloader:\n",
    "            pred=model(data)\n",
    "            loss=criterion(pred,labels)\n",
    "            _,predicted=torch.max(pred,axis=1)\n",
    "            y_true.extend(labels.numpy())\n",
    "            y_pred.extend(predicted.numpy())\n",
    "accuracy_score(y_true,y_pred)"
   ]
  },
  {
   "cell_type": "code",
   "execution_count": 90,
   "id": "f8f74847-ef2b-4e05-92e9-3815bbca6f7b",
   "metadata": {},
   "outputs": [
    {
     "data": {
      "text/plain": [
       "[<matplotlib.lines.Line2D at 0x153dc587c50>]"
      ]
     },
     "execution_count": 90,
     "metadata": {},
     "output_type": "execute_result"
    },
    {
     "data": {
      "image/png": "[encoded data removed]",
      "text/plain": [
       "<Figure size 640x480 with 1 Axes>"
      ]
     },
     "metadata": {},
     "output_type": "display_data"
    }
   ],
   "source": [
    "plt.plot(val_accuracies)"
   ]
  },
  {
   "cell_type": "code",
   "execution_count": null,
   "id": "b5218301-f6bb-4434-a392-b81d24f70e32",
   "metadata": {},
   "outputs": [],
   "source": []
  }
 ],
 "metadata": {
  "kernelspec": {
   "display_name": "Python 3 (ipykernel)",
   "language": "python",
   "name": "python3"
  },
  "language_info": {
   "codemirror_mode": {
    "name": "ipython",
    "version": 3
   },
   "file_extension": ".py",
   "mimetype": "text/x-python",
   "name": "python",
   "nbconvert_exporter": "python",
   "pygments_lexer": "ipython3",
   "version": "3.13.2"
  }
 },
 "nbformat": 4,
 "nbformat_minor": 5
}
