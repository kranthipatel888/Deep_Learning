{
 "cells": [
  {
   "cell_type": "code",
   "execution_count": 1,
   "id": "3c746bd0-0933-481a-93a2-45ffd1bfca2f",
   "metadata": {},
   "outputs": [],
   "source": [
    "import torch"
   ]
  },
  {
   "cell_type": "code",
   "execution_count": 3,
   "id": "7df5e240-b03a-44ec-80d3-b5cd33edf54c",
   "metadata": {},
   "outputs": [
    {
     "data": {
      "text/plain": [
       "tensor([100, 120,  99])"
      ]
     },
     "execution_count": 3,
     "metadata": {},
     "output_type": "execute_result"
    }
   ],
   "source": [
    "revenue=torch.tensor([100,120,99,79])\n",
    "revenue[:3]"
   ]
  },
  {
   "cell_type": "code",
   "execution_count": 4,
   "id": "efafe446-cf18-4c4b-9c12-1a65c62c7c7c",
   "metadata": {},
   "outputs": [],
   "source": [
    "q1=torch.tensor([\n",
    "    [200,220,250],#iphone\n",
    "    [150,100,210],\n",
    "    [300,230,360]\n",
    "])\n",
    "q2=torch.tensor([\n",
    "    [220,320,150],\n",
    "    [250,300,110],\n",
    "    [350,130,260]\n",
    "])"
   ]
  },
  {
   "cell_type": "code",
   "execution_count": 6,
   "id": "cefe4347-37e6-437b-99c6-e2e63b9537db",
   "metadata": {},
   "outputs": [
    {
     "data": {
      "text/plain": [
       "tensor([[420, 540, 400],\n",
       "        [400, 400, 320],\n",
       "        [650, 360, 620]])"
      ]
     },
     "execution_count": 6,
     "metadata": {},
     "output_type": "execute_result"
    }
   ],
   "source": [
    "q1+q2"
   ]
  },
  {
   "cell_type": "code",
   "execution_count": 8,
   "id": "93e60513-372f-4b84-a08d-7fe9dac8c76b",
   "metadata": {},
   "outputs": [
    {
     "data": {
      "text/plain": [
       "tensor([[ 20, 100, 100],\n",
       "        [100, 200, 100],\n",
       "        [ 50, 100, 100]])"
      ]
     },
     "execution_count": 8,
     "metadata": {},
     "output_type": "execute_result"
    }
   ],
   "source": [
    "abs(q1-q2)"
   ]
  },
  {
   "cell_type": "code",
   "execution_count": 9,
   "id": "7a5893b5-b97a-464d-b268-b2ed4f8775dd",
   "metadata": {},
   "outputs": [
    {
     "data": {
      "text/plain": [
       "tensor([[20., 22., 25.],\n",
       "        [15., 10., 21.],\n",
       "        [30., 23., 36.]])"
      ]
     },
     "execution_count": 9,
     "metadata": {},
     "output_type": "execute_result"
    }
   ],
   "source": [
    "q1*0.1"
   ]
  },
  {
   "cell_type": "code",
   "execution_count": 10,
   "id": "e5de4f66-c6dc-43f7-ae1b-dd5e78fb7aad",
   "metadata": {},
   "outputs": [
    {
     "data": {
      "text/plain": [
       "tensor([[ 6000,  5940,  6250],\n",
       "        [ 3000,  1800,  3570],\n",
       "        [13500,  8740,  9000]])"
      ]
     },
     "execution_count": 10,
     "metadata": {},
     "output_type": "execute_result"
    }
   ],
   "source": [
    "profit=torch.tensor([\n",
    "    [30,27,25],\n",
    "    [20,18,17],\n",
    "    [45,38,25]\n",
    "])\n",
    "profit*q1"
   ]
  },
  {
   "cell_type": "code",
   "execution_count": 16,
   "id": "ec96971d-cd2a-4c7b-9877-bf39f552a030",
   "metadata": {},
   "outputs": [
    {
     "data": {
      "text/plain": [
       "tensor([[220000,  99000, 375000],\n",
       "        [165000,  45000, 315000],\n",
       "        [330000, 103500, 540000]])"
      ]
     },
     "execution_count": 16,
     "metadata": {},
     "output_type": "execute_result"
    }
   ],
   "source": [
    "product_prices=torch.tensor([[1100,450,1500]])\n",
    "product_prices*q1"
   ]
  },
  {
   "cell_type": "code",
   "execution_count": 17,
   "id": "247a4e0f-a887-4016-8668-989d0755ea38",
   "metadata": {},
   "outputs": [
    {
     "data": {
      "text/plain": [
       "tensor([[737500, 632000, 909500]])"
      ]
     },
     "execution_count": 17,
     "metadata": {},
     "output_type": "execute_result"
    }
   ],
   "source": [
    "torch.matmul(product_prices,q1)"
   ]
  },
  {
   "cell_type": "code",
   "execution_count": 18,
   "id": "eced75a3-3d78-4371-8823-2db355832afa",
   "metadata": {},
   "outputs": [
    {
     "data": {
      "text/plain": [
       "tensor([[1100],\n",
       "        [ 450],\n",
       "        [1500]])"
      ]
     },
     "execution_count": 18,
     "metadata": {},
     "output_type": "execute_result"
    }
   ],
   "source": [
    "product_prices.t()"
   ]
  },
  {
   "cell_type": "code",
   "execution_count": 28,
   "id": "27f6aa1b-9d2d-4642-83a7-13f6aa39dec3",
   "metadata": {},
   "outputs": [
    {
     "data": {
      "text/plain": [
       "tensor([[220000, 242000, 275000],\n",
       "        [ 67500,  45000,  94500],\n",
       "        [450000, 345000, 540000]])"
      ]
     },
     "execution_count": 28,
     "metadata": {},
     "output_type": "execute_result"
    }
   ],
   "source": [
    "price_by_region=q1*product_prices.t()\n",
    "price_by_region"
   ]
  },
  {
   "cell_type": "code",
   "execution_count": 29,
   "id": "63d75f3e-b818-4f32-8d34-3a0ed52c2182",
   "metadata": {},
   "outputs": [
    {
     "data": {
      "text/plain": [
       "tensor([737500, 632000, 909500])"
      ]
     },
     "execution_count": 29,
     "metadata": {},
     "output_type": "execute_result"
    }
   ],
   "source": [
    "price_by_region.sum(dim=0)"
   ]
  },
  {
   "cell_type": "code",
   "execution_count": 30,
   "id": "37d3ad59-1f40-4fb3-9b58-9d26f6d8b500",
   "metadata": {},
   "outputs": [
    {
     "data": {
      "text/plain": [
       "tensor([[200.5000, 186.0000, 167.0000],\n",
       "        [187.5000, 175.4000, 163.0000],\n",
       "        [210.0000, 193.8000, 176.0000]])"
      ]
     },
     "execution_count": 30,
     "metadata": {},
     "output_type": "execute_result"
    }
   ],
   "source": [
    "portfolio_composition = torch.tensor([\n",
    "    [100.0, 50.0, 30.0],  # P1\n",
    "    [80.0, 70.0, 20.0],   # P2\n",
    "    [60.0, 40.0, 90.0]    # P3\n",
    "], dtype=torch.float32)\n",
    "\n",
    "# Create price change matrix (3x3)\n",
    "# Rows: Assets (Stocks, Bonds, Real Estate)\n",
    "# Columns: Economic scenarios (Growth, Neutral, Recession)\n",
    "price_changes = torch.tensor([\n",
    "    [1.15, 1.05, 0.85],  # Stocks\n",
    "    [1.05, 1.02, 1.10],  # Bonds\n",
    "    [1.10, 1.00, 0.90]   # Real Estate\n",
    "], dtype=torch.float32)\n",
    "\n",
    "values = torch.matmul(portfolio_composition, price_changes)\n",
    "values "
   ]
  },
  {
   "cell_type": "code",
   "execution_count": 32,
   "id": "3bc41cb5-c7ef-4502-ace9-78f84f529b62",
   "metadata": {},
   "outputs": [
    {
     "data": {
      "text/plain": [
       "tensor([[16641.5000, 15438.0000, 13861.0000],\n",
       "        [15562.5000, 14558.1992, 13529.0000],\n",
       "        [17430.0000, 16085.3994, 14608.0000]])"
      ]
     },
     "execution_count": 32,
     "metadata": {},
     "output_type": "execute_result"
    }
   ],
   "source": [
    "83*values"
   ]
  },
  {
   "cell_type": "code",
   "execution_count": 33,
   "id": "e3e27d66-c9d2-41db-b1d7-ea9963154755",
   "metadata": {},
   "outputs": [],
   "source": [
    "units=torch.tensor([\n",
    "    [200,220],\n",
    "    [150,180],\n",
    "    [300,330]\n",
    "])"
   ]
  },
  {
   "cell_type": "code",
   "execution_count": 34,
   "id": "bb867706-7526-4754-9f7d-9bd354e6accb",
   "metadata": {},
   "outputs": [
    {
     "data": {
      "text/plain": [
       "torch.Size([3, 2])"
      ]
     },
     "execution_count": 34,
     "metadata": {},
     "output_type": "execute_result"
    }
   ],
   "source": [
    "units.shape"
   ]
  },
  {
   "cell_type": "code",
   "execution_count": 35,
   "id": "fef66618-0318-4c7f-aa27-d8589b7eaf59",
   "metadata": {},
   "outputs": [
    {
     "data": {
      "text/plain": [
       "torch.int64"
      ]
     },
     "execution_count": 35,
     "metadata": {},
     "output_type": "execute_result"
    }
   ],
   "source": [
    "units.dtype"
   ]
  },
  {
   "cell_type": "code",
   "execution_count": 36,
   "id": "bc8d2e7c-19ed-4923-a40b-f6e6d9d0a054",
   "metadata": {},
   "outputs": [
    {
     "data": {
      "text/plain": [
       "device(type='cpu')"
      ]
     },
     "execution_count": 36,
     "metadata": {},
     "output_type": "execute_result"
    }
   ],
   "source": [
    "units.device"
   ]
  },
  {
   "cell_type": "code",
   "execution_count": 38,
   "id": "87da2614-905f-4364-88da-8060928b57d6",
   "metadata": {},
   "outputs": [
    {
     "data": {
      "text/plain": [
       "tensor([200, 220, 150, 180, 300, 330])"
      ]
     },
     "execution_count": 38,
     "metadata": {},
     "output_type": "execute_result"
    }
   ],
   "source": [
    "units.view(-1,)"
   ]
  },
  {
   "cell_type": "code",
   "execution_count": 39,
   "id": "adc239f6-21ec-4e04-b336-995ab976ebf7",
   "metadata": {},
   "outputs": [
    {
     "data": {
      "text/plain": [
       "tensor([[200, 220, 150],\n",
       "        [180, 300, 330]])"
      ]
     },
     "execution_count": 39,
     "metadata": {},
     "output_type": "execute_result"
    }
   ],
   "source": [
    "units.view(2,3)"
   ]
  },
  {
   "cell_type": "code",
   "execution_count": 42,
   "id": "3ac9f2d0-fbba-4e32-b2e2-1b3c67c0e7e1",
   "metadata": {},
   "outputs": [],
   "source": [
    "units[2,1]=331"
   ]
  },
  {
   "cell_type": "code",
   "execution_count": 43,
   "id": "0409a2d4-d03e-4514-ab2a-0d0fb2d303df",
   "metadata": {},
   "outputs": [
    {
     "data": {
      "text/plain": [
       "tensor([[200, 220],\n",
       "        [150, 180],\n",
       "        [300, 331]])"
      ]
     },
     "execution_count": 43,
     "metadata": {},
     "output_type": "execute_result"
    }
   ],
   "source": [
    "units"
   ]
  },
  {
   "cell_type": "code",
   "execution_count": 44,
   "id": "1ee00f2c-e7db-457a-aa02-aae2c75d7597",
   "metadata": {},
   "outputs": [
    {
     "data": {
      "text/plain": [
       "tensor([[0.5927, 0.0832, 0.4519, 0.4038],\n",
       "        [0.8782, 0.9732, 0.6475, 0.5538],\n",
       "        [0.4126, 0.5061, 0.3656, 0.8546]])"
      ]
     },
     "execution_count": 44,
     "metadata": {},
     "output_type": "execute_result"
    }
   ],
   "source": [
    "torch.rand(3,4)"
   ]
  },
  {
   "cell_type": "code",
   "execution_count": null,
   "id": "2b06af0d-a0ef-488a-a3b4-d16dcb6a2ae1",
   "metadata": {},
   "outputs": [],
   "source": []
  }
 ],
 "metadata": {
  "kernelspec": {
   "display_name": "Python 3 (ipykernel)",
   "language": "python",
   "name": "python3"
  },
  "language_info": {
   "codemirror_mode": {
    "name": "ipython",
    "version": 3
   },
   "file_extension": ".py",
   "mimetype": "text/x-python",
   "name": "python",
   "nbconvert_exporter": "python",
   "pygments_lexer": "ipython3",
   "version": "3.13.2"
  }
 },
 "nbformat": 4,
 "nbformat_minor": 5
}
