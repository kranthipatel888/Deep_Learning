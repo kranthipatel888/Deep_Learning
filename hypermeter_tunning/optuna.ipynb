{
 "cells": [
  {
   "cell_type": "code",
   "execution_count": 37,
   "id": "a2f471ad-9727-4cc6-aa1d-491584804c8d",
   "metadata": {},
   "outputs": [],
   "source": [
    "import optuna\n",
    "import torch\n",
    "import torch.nn as nn\n",
    "from torchvision import datasets\n",
    "from torch.utils.data import DataLoader,TensorDataset\n",
    "from torch import optim\n",
    "from sklearn.model_selection import train_test_split\n",
    "from sklearn.datasets import make_classification\n",
    "from sklearn.preprocessing import StandardScaler\n",
    "from sklearn.metrics import accuracy_score"
   ]
  },
  {
   "cell_type": "code",
   "execution_count": 38,
   "id": "a5a14fa8-fc0d-4daf-ae8f-1442d44a188a",
   "metadata": {},
   "outputs": [],
   "source": [
    "x,y=make_classification(n_samples=1000,n_classes=2,random_state=42,n_features=20)\n",
    "\n",
    "x_train,x_test,y_train,y_test=train_test_split(x,y,test_size=.25,random_state=42)"
   ]
  },
  {
   "cell_type": "code",
   "execution_count": 39,
   "id": "c7e35267-35b9-40d4-9095-ef9b2d0d6dbe",
   "metadata": {},
   "outputs": [],
   "source": [
    "x_train_tensor,y_train_tensor=torch.tensor(x_train,dtype=torch.float32),torch.tensor(y_train,dtype=torch.long)\n",
    "x_test_tensor,y_test_tensor=torch.tensor(x_test,dtype=torch.float32),torch.tensor(y_test,dtype=torch.long)"
   ]
  },
  {
   "cell_type": "code",
   "execution_count": 40,
   "id": "9aed88b5-e70e-4e12-bbbb-1b511d95afb6",
   "metadata": {},
   "outputs": [],
   "source": [
    "class SimpleNN(nn.Module):\n",
    "    def __init__(self,input_dim,hidden_dim):\n",
    "        super().__init__()\n",
    "        self.network=nn.Sequential(\n",
    "            nn.Linear(input_dim,hidden_dim),\n",
    "            nn.ReLU(),\n",
    "            nn.Linear(hidden_dim,2)\n",
    "        )\n",
    "    def forward(self,x):\n",
    "        return self.network(x)"
   ]
  },
  {
   "cell_type": "code",
   "execution_count": 42,
   "id": "a86957b0-8ffa-496d-8f23-143614bb5c69",
   "metadata": {},
   "outputs": [],
   "source": [
    "def objective(trail):\n",
    "    hidden_dim=trail.suggest_int('hidden_dim',16,128)\n",
    "    learning_rate=trail.suggest_loguniform('learning_rate',1e-4,1e-1)\n",
    "    model=SimpleNN(input_dim=20,hidden_dim=hidden_dim)\n",
    "    optimizer=optim.Adam(model.parameters(),lr=learning_rate)\n",
    "    criterion=nn.CrossEntropyLoss()\n",
    "    epochs=20\n",
    "    batch_size=64\n",
    "    train_loader=DataLoader(TensorDataset(x_train_tensor,y_train_tensor),shuffle=True,batch_size=batch_size)\n",
    "    test_loader=DataLoader(TensorDataset(x_test_tensor,y_test_tensor),shuffle=True,batch_size=batch_size)\n",
    "    for epoch in range(epochs):\n",
    "        model.train()\n",
    "        running_loss=0.0\n",
    "        for data , labels in train_loader:\n",
    "            optimizer.zero_grad()\n",
    "            pred=model(data)\n",
    "            loss=criterion(pred,labels)\n",
    "            loss.backward()\n",
    "            optimizer.step()\n",
    "            running_loss+=loss.item()\n",
    "\n",
    "    model.eval()\n",
    "    y_pred,y_true=[],[]\n",
    "    with torch.no_grad():\n",
    "        for data,labels in test_loader:\n",
    "            pred=model(data)\n",
    "            loss=criterion(pred,labels)\n",
    "            _,predicted=torch.max(pred,axis=1)\n",
    "            y_true.extend(labels.numpy())\n",
    "            y_pred.extend(predicted.numpy())\n",
    "    accuracy=accuracy_score(y_true,y_pred)\n",
    "    \n",
    "    return accuracy"
   ]
  },
  {
   "cell_type": "code",
   "execution_count": 43,
   "id": "bcdc9027-2a2d-41cc-ba1f-2351d3b2a657",
   "metadata": {},
   "outputs": [
    {
     "name": "stderr",
     "output_type": "stream",
     "text": [
      "[I 2025-07-16 14:49:35,819] A new study created in memory with name: no-name-baa4b757-ff0c-4a8b-870d-c94d0e00d232\n",
      "C:\\Users\\krant\\AppData\\Local\\Temp\\ipykernel_20052\\241185576.py:3: FutureWarning: suggest_loguniform has been deprecated in v3.0.0. This feature will be removed in v6.0.0. See https://github.com/optuna/optuna/releases/tag/v3.0.0. Use suggest_float(..., log=True) instead.\n",
      "  learning_rate=trail.suggest_loguniform('learning_rate',1e-4,1e-1)\n",
      "[I 2025-07-16 14:49:36,141] Trial 0 finished with value: 0.852 and parameters: {'hidden_dim': 34, 'learning_rate': 0.00232053232319644}. Best is trial 0 with value: 0.852.\n",
      "C:\\Users\\krant\\AppData\\Local\\Temp\\ipykernel_20052\\241185576.py:3: FutureWarning: suggest_loguniform has been deprecated in v3.0.0. This feature will be removed in v6.0.0. See https://github.com/optuna/optuna/releases/tag/v3.0.0. Use suggest_float(..., log=True) instead.\n",
      "  learning_rate=trail.suggest_loguniform('learning_rate',1e-4,1e-1)\n",
      "[I 2025-07-16 14:49:36,376] Trial 1 finished with value: 0.836 and parameters: {'hidden_dim': 72, 'learning_rate': 0.0005520519516601365}. Best is trial 0 with value: 0.852.\n",
      "C:\\Users\\krant\\AppData\\Local\\Temp\\ipykernel_20052\\241185576.py:3: FutureWarning: suggest_loguniform has been deprecated in v3.0.0. This feature will be removed in v6.0.0. See https://github.com/optuna/optuna/releases/tag/v3.0.0. Use suggest_float(..., log=True) instead.\n",
      "  learning_rate=trail.suggest_loguniform('learning_rate',1e-4,1e-1)\n",
      "[I 2025-07-16 14:49:36,670] Trial 2 finished with value: 0.804 and parameters: {'hidden_dim': 128, 'learning_rate': 0.05089887870417295}. Best is trial 0 with value: 0.852.\n",
      "C:\\Users\\krant\\AppData\\Local\\Temp\\ipykernel_20052\\241185576.py:3: FutureWarning: suggest_loguniform has been deprecated in v3.0.0. This feature will be removed in v6.0.0. See https://github.com/optuna/optuna/releases/tag/v3.0.0. Use suggest_float(..., log=True) instead.\n",
      "  learning_rate=trail.suggest_loguniform('learning_rate',1e-4,1e-1)\n",
      "[I 2025-07-16 14:49:36,979] Trial 3 finished with value: 0.84 and parameters: {'hidden_dim': 74, 'learning_rate': 0.0005671780420966856}. Best is trial 0 with value: 0.852.\n",
      "C:\\Users\\krant\\AppData\\Local\\Temp\\ipykernel_20052\\241185576.py:3: FutureWarning: suggest_loguniform has been deprecated in v3.0.0. This feature will be removed in v6.0.0. See https://github.com/optuna/optuna/releases/tag/v3.0.0. Use suggest_float(..., log=True) instead.\n",
      "  learning_rate=trail.suggest_loguniform('learning_rate',1e-4,1e-1)\n",
      "[I 2025-07-16 14:49:37,267] Trial 4 finished with value: 0.86 and parameters: {'hidden_dim': 60, 'learning_rate': 0.001530030447326097}. Best is trial 4 with value: 0.86.\n",
      "C:\\Users\\krant\\AppData\\Local\\Temp\\ipykernel_20052\\241185576.py:3: FutureWarning: suggest_loguniform has been deprecated in v3.0.0. This feature will be removed in v6.0.0. See https://github.com/optuna/optuna/releases/tag/v3.0.0. Use suggest_float(..., log=True) instead.\n",
      "  learning_rate=trail.suggest_loguniform('learning_rate',1e-4,1e-1)\n",
      "[I 2025-07-16 14:49:37,571] Trial 5 finished with value: 0.808 and parameters: {'hidden_dim': 39, 'learning_rate': 0.0060662490138474225}. Best is trial 4 with value: 0.86.\n",
      "C:\\Users\\krant\\AppData\\Local\\Temp\\ipykernel_20052\\241185576.py:3: FutureWarning: suggest_loguniform has been deprecated in v3.0.0. This feature will be removed in v6.0.0. See https://github.com/optuna/optuna/releases/tag/v3.0.0. Use suggest_float(..., log=True) instead.\n",
      "  learning_rate=trail.suggest_loguniform('learning_rate',1e-4,1e-1)\n",
      "[I 2025-07-16 14:49:37,849] Trial 6 finished with value: 0.812 and parameters: {'hidden_dim': 26, 'learning_rate': 0.0004072137150554762}. Best is trial 4 with value: 0.86.\n",
      "C:\\Users\\krant\\AppData\\Local\\Temp\\ipykernel_20052\\241185576.py:3: FutureWarning: suggest_loguniform has been deprecated in v3.0.0. This feature will be removed in v6.0.0. See https://github.com/optuna/optuna/releases/tag/v3.0.0. Use suggest_float(..., log=True) instead.\n",
      "  learning_rate=trail.suggest_loguniform('learning_rate',1e-4,1e-1)\n",
      "[I 2025-07-16 14:49:38,186] Trial 7 finished with value: 0.824 and parameters: {'hidden_dim': 120, 'learning_rate': 0.015499506729421577}. Best is trial 4 with value: 0.86.\n",
      "C:\\Users\\krant\\AppData\\Local\\Temp\\ipykernel_20052\\241185576.py:3: FutureWarning: suggest_loguniform has been deprecated in v3.0.0. This feature will be removed in v6.0.0. See https://github.com/optuna/optuna/releases/tag/v3.0.0. Use suggest_float(..., log=True) instead.\n",
      "  learning_rate=trail.suggest_loguniform('learning_rate',1e-4,1e-1)\n",
      "[I 2025-07-16 14:49:38,488] Trial 8 finished with value: 0.82 and parameters: {'hidden_dim': 43, 'learning_rate': 0.010766585592882271}. Best is trial 4 with value: 0.86.\n",
      "C:\\Users\\krant\\AppData\\Local\\Temp\\ipykernel_20052\\241185576.py:3: FutureWarning: suggest_loguniform has been deprecated in v3.0.0. This feature will be removed in v6.0.0. See https://github.com/optuna/optuna/releases/tag/v3.0.0. Use suggest_float(..., log=True) instead.\n",
      "  learning_rate=trail.suggest_loguniform('learning_rate',1e-4,1e-1)\n",
      "[I 2025-07-16 14:49:38,773] Trial 9 finished with value: 0.828 and parameters: {'hidden_dim': 63, 'learning_rate': 0.0004230386748666777}. Best is trial 4 with value: 0.86.\n",
      "C:\\Users\\krant\\AppData\\Local\\Temp\\ipykernel_20052\\241185576.py:3: FutureWarning: suggest_loguniform has been deprecated in v3.0.0. This feature will be removed in v6.0.0. See https://github.com/optuna/optuna/releases/tag/v3.0.0. Use suggest_float(..., log=True) instead.\n",
      "  learning_rate=trail.suggest_loguniform('learning_rate',1e-4,1e-1)\n",
      "[I 2025-07-16 14:49:39,103] Trial 10 finished with value: 0.844 and parameters: {'hidden_dim': 98, 'learning_rate': 0.0019940833968423747}. Best is trial 4 with value: 0.86.\n",
      "C:\\Users\\krant\\AppData\\Local\\Temp\\ipykernel_20052\\241185576.py:3: FutureWarning: suggest_loguniform has been deprecated in v3.0.0. This feature will be removed in v6.0.0. See https://github.com/optuna/optuna/releases/tag/v3.0.0. Use suggest_float(..., log=True) instead.\n",
      "  learning_rate=trail.suggest_loguniform('learning_rate',1e-4,1e-1)\n",
      "[I 2025-07-16 14:49:39,397] Trial 11 finished with value: 0.836 and parameters: {'hidden_dim': 16, 'learning_rate': 0.002033462273098838}. Best is trial 4 with value: 0.86.\n",
      "C:\\Users\\krant\\AppData\\Local\\Temp\\ipykernel_20052\\241185576.py:3: FutureWarning: suggest_loguniform has been deprecated in v3.0.0. This feature will be removed in v6.0.0. See https://github.com/optuna/optuna/releases/tag/v3.0.0. Use suggest_float(..., log=True) instead.\n",
      "  learning_rate=trail.suggest_loguniform('learning_rate',1e-4,1e-1)\n",
      "[I 2025-07-16 14:49:39,712] Trial 12 finished with value: 0.764 and parameters: {'hidden_dim': 53, 'learning_rate': 0.0001475086758328559}. Best is trial 4 with value: 0.86.\n",
      "C:\\Users\\krant\\AppData\\Local\\Temp\\ipykernel_20052\\241185576.py:3: FutureWarning: suggest_loguniform has been deprecated in v3.0.0. This feature will be removed in v6.0.0. See https://github.com/optuna/optuna/releases/tag/v3.0.0. Use suggest_float(..., log=True) instead.\n",
      "  learning_rate=trail.suggest_loguniform('learning_rate',1e-4,1e-1)\n",
      "[I 2025-07-16 14:49:40,024] Trial 13 finished with value: 0.84 and parameters: {'hidden_dim': 90, 'learning_rate': 0.002726377170068301}. Best is trial 4 with value: 0.86.\n",
      "C:\\Users\\krant\\AppData\\Local\\Temp\\ipykernel_20052\\241185576.py:3: FutureWarning: suggest_loguniform has been deprecated in v3.0.0. This feature will be removed in v6.0.0. See https://github.com/optuna/optuna/releases/tag/v3.0.0. Use suggest_float(..., log=True) instead.\n",
      "  learning_rate=trail.suggest_loguniform('learning_rate',1e-4,1e-1)\n",
      "[I 2025-07-16 14:49:40,361] Trial 14 finished with value: 0.848 and parameters: {'hidden_dim': 35, 'learning_rate': 0.001123409305387923}. Best is trial 4 with value: 0.86.\n",
      "C:\\Users\\krant\\AppData\\Local\\Temp\\ipykernel_20052\\241185576.py:3: FutureWarning: suggest_loguniform has been deprecated in v3.0.0. This feature will be removed in v6.0.0. See https://github.com/optuna/optuna/releases/tag/v3.0.0. Use suggest_float(..., log=True) instead.\n",
      "  learning_rate=trail.suggest_loguniform('learning_rate',1e-4,1e-1)\n",
      "[I 2025-07-16 14:49:40,688] Trial 15 finished with value: 0.848 and parameters: {'hidden_dim': 54, 'learning_rate': 0.005402055979828748}. Best is trial 4 with value: 0.86.\n",
      "C:\\Users\\krant\\AppData\\Local\\Temp\\ipykernel_20052\\241185576.py:3: FutureWarning: suggest_loguniform has been deprecated in v3.0.0. This feature will be removed in v6.0.0. See https://github.com/optuna/optuna/releases/tag/v3.0.0. Use suggest_float(..., log=True) instead.\n",
      "  learning_rate=trail.suggest_loguniform('learning_rate',1e-4,1e-1)\n",
      "[I 2025-07-16 14:49:41,001] Trial 16 finished with value: 0.816 and parameters: {'hidden_dim': 88, 'learning_rate': 0.027245311775262685}. Best is trial 4 with value: 0.86.\n",
      "C:\\Users\\krant\\AppData\\Local\\Temp\\ipykernel_20052\\241185576.py:3: FutureWarning: suggest_loguniform has been deprecated in v3.0.0. This feature will be removed in v6.0.0. See https://github.com/optuna/optuna/releases/tag/v3.0.0. Use suggest_float(..., log=True) instead.\n",
      "  learning_rate=trail.suggest_loguniform('learning_rate',1e-4,1e-1)\n",
      "[I 2025-07-16 14:49:41,295] Trial 17 finished with value: 0.62 and parameters: {'hidden_dim': 16, 'learning_rate': 0.00012459602665399174}. Best is trial 4 with value: 0.86.\n",
      "C:\\Users\\krant\\AppData\\Local\\Temp\\ipykernel_20052\\241185576.py:3: FutureWarning: suggest_loguniform has been deprecated in v3.0.0. This feature will be removed in v6.0.0. See https://github.com/optuna/optuna/releases/tag/v3.0.0. Use suggest_float(..., log=True) instead.\n",
      "  learning_rate=trail.suggest_loguniform('learning_rate',1e-4,1e-1)\n",
      "[I 2025-07-16 14:49:41,601] Trial 18 finished with value: 0.852 and parameters: {'hidden_dim': 51, 'learning_rate': 0.0008707489436333715}. Best is trial 4 with value: 0.86.\n",
      "C:\\Users\\krant\\AppData\\Local\\Temp\\ipykernel_20052\\241185576.py:3: FutureWarning: suggest_loguniform has been deprecated in v3.0.0. This feature will be removed in v6.0.0. See https://github.com/optuna/optuna/releases/tag/v3.0.0. Use suggest_float(..., log=True) instead.\n",
      "  learning_rate=trail.suggest_loguniform('learning_rate',1e-4,1e-1)\n",
      "[I 2025-07-16 14:49:41,916] Trial 19 finished with value: 0.836 and parameters: {'hidden_dim': 28, 'learning_rate': 0.0980168286244197}. Best is trial 4 with value: 0.86.\n"
     ]
    }
   ],
   "source": [
    "study=optuna.create_study(direction='maximize')\n",
    "study.optimize(objective,n_trials=20)"
   ]
  },
  {
   "cell_type": "code",
   "execution_count": 44,
   "id": "a980ec0b-48fe-4e7b-8440-f1f24ee816cc",
   "metadata": {},
   "outputs": [
    {
     "data": {
      "text/plain": [
       "{'hidden_dim': 60, 'learning_rate': 0.001530030447326097}"
      ]
     },
     "execution_count": 44,
     "metadata": {},
     "output_type": "execute_result"
    }
   ],
   "source": [
    "study.best_params"
   ]
  },
  {
   "cell_type": "code",
   "execution_count": null,
   "id": "a91044e9-d246-494c-ab65-fc35a7bb8d5d",
   "metadata": {},
   "outputs": [],
   "source": []
  },
  {
   "cell_type": "code",
   "execution_count": null,
   "id": "a1b4ed0a-3d99-4a29-ab07-b2497f5eab4d",
   "metadata": {},
   "outputs": [],
   "source": []
  }
 ],
 "metadata": {
  "kernelspec": {
   "display_name": "Python 3 (ipykernel)",
   "language": "python",
   "name": "python3"
  },
  "language_info": {
   "codemirror_mode": {
    "name": "ipython",
    "version": 3
   },
   "file_extension": ".py",
   "mimetype": "text/x-python",
   "name": "python",
   "nbconvert_exporter": "python",
   "pygments_lexer": "ipython3",
   "version": "3.13.2"
  }
 },
 "nbformat": 4,
 "nbformat_minor": 5
}
