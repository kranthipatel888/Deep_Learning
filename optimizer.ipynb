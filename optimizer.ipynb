{
 "cells": [
  {
   "cell_type": "code",
   "execution_count": 1,
   "id": "98280873-6989-481c-80b7-50700e956f78",
   "metadata": {},
   "outputs": [],
   "source": [
    "import torch\n",
    "from torch import optim\n",
    "from torchvision import datasets\n",
    "from torchvision.transforms import ToTensor\n",
    "from torch.utils.data import DataLoader\n",
    "import matplotlib.pyplot as plt\n",
    "from torch import nn as nn"
   ]
  },
  {
   "cell_type": "code",
   "execution_count": 2,
   "id": "77e7e65e-aa50-47d3-90e4-724c8f857ba0",
   "metadata": {},
   "outputs": [],
   "source": [
    "training_data=datasets.FashionMNIST(\n",
    "    root='data',\n",
    "    download=True,\n",
    "    train=True,\n",
    "    transform=ToTensor()\n",
    ")\n",
    "test_data=datasets.FashionMNIST(\n",
    "    root='data',\n",
    "    download=True,\n",
    "    train=False,\n",
    "    transform=ToTensor()\n",
    ")"
   ]
  },
  {
   "cell_type": "code",
   "execution_count": 3,
   "id": "768ecff6-fd08-42f6-be74-4c3ca1c0dba0",
   "metadata": {},
   "outputs": [
    {
     "data": {
      "text/plain": [
       "60000"
      ]
     },
     "execution_count": 3,
     "metadata": {},
     "output_type": "execute_result"
    }
   ],
   "source": [
    "len(training_data)"
   ]
  },
  {
   "cell_type": "code",
   "execution_count": 4,
   "id": "c5f7e1e7-9bd5-4ca5-adff-5f1067647c0f",
   "metadata": {},
   "outputs": [],
   "source": [
    "train_dataloader=DataLoader(training_data,shuffle=True,batch_size=64)\n",
    "test_dataloader=DataLoader(test_data,shuffle=True,batch_size=64)"
   ]
  },
  {
   "cell_type": "code",
   "execution_count": 5,
   "id": "3d09c785-4952-4a43-983e-0f522b0955e5",
   "metadata": {},
   "outputs": [],
   "source": [
    "data=iter(train_dataloader)\n",
    "images,label=next(data)"
   ]
  },
  {
   "cell_type": "code",
   "execution_count": 6,
   "id": "b8dc1cec-128c-4825-8a28-7b43da81102e",
   "metadata": {},
   "outputs": [
    {
     "data": {
      "image/png": "[encoded data removed]",
      "text/plain": [
       "<Figure size 200x200 with 1 Axes>"
      ]
     },
     "metadata": {},
     "output_type": "display_data"
    }
   ],
   "source": [
    "plt.figure(figsize=(2,2))\n",
    "plt.imshow(images[0].squeeze(),cmap='gray')\n",
    "plt.show()"
   ]
  },
  {
   "cell_type": "code",
   "execution_count": 7,
   "id": "f217b0e6-e5f1-4708-8038-ecc50d237d6f",
   "metadata": {},
   "outputs": [
    {
     "data": {
      "text/plain": [
       "tensor([0, 2, 6, 3, 7, 0, 0, 7, 5, 0, 4, 9, 5, 5, 8, 3, 5, 8, 2, 3, 3, 3, 8, 0,\n",
       "        3, 7, 0, 3, 5, 8, 6, 8, 0, 6, 6, 7, 0, 5, 3, 8, 4, 9, 3, 2, 7, 9, 2, 2,\n",
       "        9, 3, 5, 0, 2, 1, 7, 4, 1, 2, 9, 3, 5, 1, 5, 7])"
      ]
     },
     "execution_count": 7,
     "metadata": {},
     "output_type": "execute_result"
    }
   ],
   "source": [
    "label"
   ]
  },
  {
   "cell_type": "code",
   "execution_count": 8,
   "id": "6114653c-f742-44ac-900e-cf287fdfc8f4",
   "metadata": {},
   "outputs": [],
   "source": [
    "class classifier(nn.Module):\n",
    "    def __init__(self):\n",
    "        super().__init__()\n",
    "        self.network = nn.Sequential(\n",
    "            nn.Flatten(),\n",
    "            nn.Linear(28*28,128),\n",
    "            nn.ReLU(),\n",
    "            nn.Linear(128,64),\n",
    "            nn.ReLU(),\n",
    "            nn.Linear(64,10)\n",
    "        )\n",
    "    def forward(self,x):\n",
    "        return self.network(x)"
   ]
  },
  {
   "cell_type": "code",
   "execution_count": 9,
   "id": "33d02405-5a6a-4ec2-9ee3-c461af183ebe",
   "metadata": {},
   "outputs": [],
   "source": [
    "model=classifier()\n",
    "# optimizer=optim.SGD(model.parameters(),lr=0.002,momentum=0.9)\n",
    "optimizer=optim.Adam(model.parameters(),lr=0.002)\n",
    "criterion=nn.CrossEntropyLoss()"
   ]
  },
  {
   "cell_type": "code",
   "execution_count": 10,
   "id": "38f2f417-ad19-4f90-9811-c275d92ddc42",
   "metadata": {},
   "outputs": [
    {
     "name": "stdout",
     "output_type": "stream",
     "text": [
      "Batch:0\tLoss:2.313905954360962\n",
      "Batch:100\tLoss:0.5193210244178772\n",
      "Batch:200\tLoss:0.5699601769447327\n",
      "Batch:300\tLoss:0.7373968958854675\n",
      "Batch:400\tLoss:0.40470027923583984\n",
      "Batch:500\tLoss:0.39034608006477356\n",
      "Batch:600\tLoss:0.34605270624160767\n",
      "Batch:700\tLoss:0.5856644511222839\n",
      "Batch:800\tLoss:0.314558744430542\n",
      "Batch:900\tLoss:0.6010290384292603\n",
      "Batch:0\tLoss:0.45571368932724\n",
      "Batch:100\tLoss:0.4616625905036926\n",
      "Batch:200\tLoss:0.2592940628528595\n",
      "Batch:300\tLoss:0.3621113896369934\n",
      "Batch:400\tLoss:0.5186359286308289\n",
      "Batch:500\tLoss:0.2871846854686737\n",
      "Batch:600\tLoss:0.25634923577308655\n",
      "Batch:700\tLoss:0.3674042522907257\n",
      "Batch:800\tLoss:0.30470481514930725\n",
      "Batch:900\tLoss:0.2917863726615906\n"
     ]
    }
   ],
   "source": [
    "epochs=2\n",
    "for epoch in range(epochs):\n",
    "    for batch,(images,labels) in enumerate(train_dataloader):\n",
    "        pred=model(images)\n",
    "        loss=criterion(pred,labels)\n",
    "        loss.backward()\n",
    "        \n",
    "        optimizer.step()\n",
    "        optimizer.zero_grad()\n",
    "    \n",
    "        if batch % 100==0:\n",
    "            print(f\"Batch:{batch}\\tLoss:{loss}\")"
   ]
  },
  {
   "cell_type": "code",
   "execution_count": 23,
   "id": "a6768096-18cf-47f6-a04f-b1f12fde405a",
   "metadata": {},
   "outputs": [],
   "source": [
    "model.eval()\n",
    "all_labels=[]\n",
    "all_Predicted=[]\n",
    "with torch.no_grad():\n",
    "    for images , labels in test_dataloader:\n",
    "        outputs=model(images)\n",
    "        _,predicted=torch.max(outputs.data,axis=1)\n",
    "        all_labels.extend(labels.numpy())\n",
    "        all_Predicted.extend(predicted.numpy())"
   ]
  },
  {
   "cell_type": "code",
   "execution_count": 24,
   "id": "8abd3f1f-022a-46a8-9913-e959764694f5",
   "metadata": {},
   "outputs": [
    {
     "data": {
      "text/plain": [
       "[np.int64(2), np.int64(4), np.int64(8), np.int64(2), np.int64(6)]"
      ]
     },
     "execution_count": 24,
     "metadata": {},
     "output_type": "execute_result"
    }
   ],
   "source": [
    "all_labels[:5]"
   ]
  },
  {
   "cell_type": "code",
   "execution_count": 25,
   "id": "3d761381-45ed-483c-89f2-1ae5c6752635",
   "metadata": {},
   "outputs": [
    {
     "data": {
      "text/plain": [
       "[np.int64(2), np.int64(4), np.int64(8), np.int64(2), np.int64(2)]"
      ]
     },
     "execution_count": 25,
     "metadata": {},
     "output_type": "execute_result"
    }
   ],
   "source": [
    "all_Predicted[:5]"
   ]
  },
  {
   "cell_type": "code",
   "execution_count": 28,
   "id": "8821588f-e650-4d5d-81f2-5a646d8f8121",
   "metadata": {},
   "outputs": [
    {
     "name": "stdout",
     "output_type": "stream",
     "text": [
      "              precision    recall  f1-score   support\n",
      "\n",
      "           0       0.71      0.91      0.80      1000\n",
      "           1       0.98      0.96      0.97      1000\n",
      "           2       0.73      0.84      0.78      1000\n",
      "           3       0.86      0.86      0.86      1000\n",
      "           4       0.79      0.73      0.76      1000\n",
      "           5       0.95      0.96      0.95      1000\n",
      "           6       0.76      0.48      0.59      1000\n",
      "           7       0.93      0.94      0.94      1000\n",
      "           8       0.95      0.97      0.96      1000\n",
      "           9       0.96      0.94      0.95      1000\n",
      "\n",
      "    accuracy                           0.86     10000\n",
      "   macro avg       0.86      0.86      0.86     10000\n",
      "weighted avg       0.86      0.86      0.86     10000\n",
      "\n"
     ]
    }
   ],
   "source": [
    "from sklearn.metrics import classification_report\n",
    "report=classification_report(all_labels,all_Predicted)\n",
    "print(report)"
   ]
  },
  {
   "cell_type": "code",
   "execution_count": null,
   "id": "ec84fe5e-c449-4cac-b00b-03fe9b1b4d59",
   "metadata": {},
   "outputs": [],
   "source": []
  },
  {
   "cell_type": "code",
   "execution_count": null,
   "id": "0782911a-1ecb-4432-8fa8-85c7f349e47f",
   "metadata": {},
   "outputs": [],
   "source": []
  }
 ],
 "metadata": {
  "kernelspec": {
   "display_name": "Python 3 (ipykernel)",
   "language": "python",
   "name": "python3"
  },
  "language_info": {
   "codemirror_mode": {
    "name": "ipython",
    "version": 3
   },
   "file_extension": ".py",
   "mimetype": "text/x-python",
   "name": "python",
   "nbconvert_exporter": "python",
   "pygments_lexer": "ipython3",
   "version": "3.13.2"
  }
 },
 "nbformat": 4,
 "nbformat_minor": 5
}
